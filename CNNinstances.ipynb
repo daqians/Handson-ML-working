{
 "cells": [
  {
   "cell_type": "markdown",
   "metadata": {},
   "source": [
    "\n",
    "every 100 training iterations, it evaluates the model on the validation set,\n",
    "if the model performs better than the best model found so far, then it saves the model to RAM,\n",
    "if there is no progress for 100 evaluations in a row, then training is interrupted,\n",
    "after training, the code restores the best model found."
   ]
  },
  {
   "cell_type": "code",
   "execution_count": null,
   "metadata": {},
   "outputs": [],
   "source": [
    "import tensorflow as tf\n",
    "\n",
    "height = 28\n",
    "width = 28\n",
    "channels = 1\n",
    "n_inputs = height * width\n",
    "\n",
    "conv1_fmaps = 32\n",
    "conv1_ksize = 3\n",
    "conv1_stride = 1\n",
    "conv1_pad = \"SAME\"\n",
    "\n",
    "conv2_fmaps = 64\n",
    "conv2_ksize = 3\n",
    "conv2_stride = 1\n",
    "conv2_pad = \"SAME\"\n",
    "conv2_dropout_rate = 0.25\n",
    "\n",
    "pool3_fmaps = conv2_fmaps\n",
    "\n",
    "n_fc1 = 128\n",
    "fc1_dropout_rate = 0.5\n",
    "\n",
    "n_outputs = 10\n",
    "\n",
    "reset_graph()\n",
    "\n",
    "with tf.name_scope(\"inputs\"):\n",
    "    X = tf.placeholder(tf.float32, shape=[None, n_inputs], name=\"X\")\n",
    "    X_reshaped = tf.reshape(X, shape=[-1, height, width, channels])\n",
    "    y = tf.placeholder(tf.int32, shape=[None], name=\"y\")\n",
    "    training = tf.placeholder_with_default(False, shape=[], name='training')\n",
    "\n",
    "conv1 = tf.layers.conv2d(X_reshaped, filters=conv1_fmaps, kernel_size=conv1_ksize,\n",
    "                         strides=conv1_stride, padding=conv1_pad,\n",
    "                         activation=tf.nn.relu, name=\"conv1\")\n",
    "conv2 = tf.layers.conv2d(conv1, filters=conv2_fmaps, kernel_size=conv2_ksize,\n",
    "                         strides=conv2_stride, padding=conv2_pad,\n",
    "                         activation=tf.nn.relu, name=\"conv2\")\n",
    "\n",
    "with tf.name_scope(\"pool3\"):\n",
    "    pool3 = tf.nn.max_pool(conv2, ksize=[1, 2, 2, 1], strides=[1, 2, 2, 1], padding=\"VALID\")\n",
    "    pool3_flat = tf.reshape(pool3, shape=[-1, pool3_fmaps * 14 * 14])\n",
    "    pool3_flat_drop = tf.layers.dropout(pool3_flat, conv2_dropout_rate, training=training)\n",
    "\n",
    "with tf.name_scope(\"fc1\"):\n",
    "    fc1 = tf.layers.dense(pool3_flat_drop, n_fc1, activation=tf.nn.relu, name=\"fc1\")\n",
    "    fc1_drop = tf.layers.dropout(fc1, fc1_dropout_rate, training=training)\n",
    "\n",
    "with tf.name_scope(\"output\"):\n",
    "    logits = tf.layers.dense(fc1, n_outputs, name=\"output\")\n",
    "    Y_proba = tf.nn.softmax(logits, name=\"Y_proba\")\n",
    "\n",
    "with tf.name_scope(\"train\"):\n",
    "    xentropy = tf.nn.sparse_softmax_cross_entropy_with_logits(logits=logits, labels=y)\n",
    "    loss = tf.reduce_mean(xentropy)\n",
    "    optimizer = tf.train.AdamOptimizer()\n",
    "    training_op = optimizer.minimize(loss)\n",
    "\n",
    "with tf.name_scope(\"eval\"):\n",
    "    correct = tf.nn.in_top_k(logits, y, 1)\n",
    "    accuracy = tf.reduce_mean(tf.cast(correct, tf.float32))\n",
    "\n",
    "with tf.name_scope(\"init_and_save\"):\n",
    "    init = tf.global_variables_initializer()\n",
    "    saver = tf.train.Saver()"
   ]
  },
  {
   "cell_type": "code",
   "execution_count": null,
   "metadata": {},
   "outputs": [],
   "source": [
    "def get_model_params():\n",
    "    gvars = tf.get_collection(tf.GraphKeys.GLOBAL_VARIABLES)\n",
    "    return {gvar.op.name: value for gvar, value in zip(gvars, tf.get_default_session().run(gvars))}\n",
    "\n",
    "def restore_model_params(model_params):\n",
    "    gvar_names = list(model_params.keys())\n",
    "    assign_ops = {gvar_name: tf.get_default_graph().get_operation_by_name(gvar_name + \"/Assign\")\n",
    "                  for gvar_name in gvar_names}\n",
    "    init_values = {gvar_name: assign_op.inputs[1] for gvar_name, assign_op in assign_ops.items()}\n",
    "    feed_dict = {init_values[gvar_name]: model_params[gvar_name] for gvar_name in gvar_names}\n",
    "    tf.get_default_session().run(assign_ops, feed_dict=feed_dict)"
   ]
  },
  {
   "cell_type": "code",
   "execution_count": null,
   "metadata": {},
   "outputs": [],
   "source": [
    "n_epochs = 1000\n",
    "batch_size = 50\n",
    "\n",
    "best_loss_val = np.infty\n",
    "check_interval = 500\n",
    "checks_since_last_progress = 0\n",
    "max_checks_without_progress = 20\n",
    "best_model_params = None \n",
    "\n",
    "with tf.Session() as sess:\n",
    "    init.run()\n",
    "    for epoch in range(n_epochs):\n",
    "        for iteration in range(mnist.train.num_examples // batch_size):\n",
    "            X_batch, y_batch = mnist.train.next_batch(batch_size)\n",
    "            sess.run(training_op, feed_dict={X: X_batch, y: y_batch, training: True})\n",
    "            if iteration % check_interval == 0:\n",
    "                loss_val = loss.eval(feed_dict={X: mnist.validation.images,\n",
    "                                                y: mnist.validation.labels})\n",
    "                if loss_val < best_loss_val:\n",
    "                    best_loss_val = loss_val\n",
    "                    checks_since_last_progress = 0\n",
    "                    best_model_params = get_model_params()\n",
    "                else:\n",
    "                    checks_since_last_progress += 1\n",
    "        acc_train = accuracy.eval(feed_dict={X: X_batch, y: y_batch})\n",
    "        acc_val = accuracy.eval(feed_dict={X: mnist.validation.images,\n",
    "                                           y: mnist.validation.labels})\n",
    "        print(\"Epoch {}, train accuracy: {:.4f}%, valid. accuracy: {:.4f}%, valid. best loss: {:.6f}\".format(\n",
    "                  epoch, acc_train * 100, acc_val * 100, best_loss_val))\n",
    "        if checks_since_last_progress > max_checks_without_progress:\n",
    "            print(\"Early stopping!\")\n",
    "            break\n",
    "\n",
    "    if best_model_params:\n",
    "        restore_model_params(best_model_params)\n",
    "    acc_test = accuracy.eval(feed_dict={X: mnist.test.images,\n",
    "                                        y: mnist.test.labels})\n",
    "    print(\"Final accuracy on test set:\", acc_test)\n",
    "    save_path = saver.save(sess, \"./my_mnist_model\")"
   ]
  },
  {
   "cell_type": "markdown",
   "metadata": {},
   "source": [
    "9. Transfer learning for large image classification."
   ]
  },
  {
   "cell_type": "markdown",
   "metadata": {},
   "source": [
    "9.1.\n",
    "Exercise: Create a training set containing at least 100 images per class. For example, you could classify your own pictures based on the location (beach, mountain, city, etc.), or alternatively you can just use an existing dataset, such as the flowers dataset or MIT's places dataset (requires registration, and it is huge)."
   ]
  },
  {
   "cell_type": "code",
   "execution_count": null,
   "metadata": {},
   "outputs": [],
   "source": [
    "import sys\n",
    "import tarfile\n",
    "from six.moves import urllib\n",
    "\n",
    "FLOWERS_URL = \"http://download.tensorflow.org/example_images/flower_photos.tgz\"\n",
    "FLOWERS_PATH = os.path.join(\"datasets\", \"flowers\")\n",
    "\n",
    "def fetch_flowers(url=FLOWERS_URL, path=FLOWERS_PATH):\n",
    "    if os.path.exists(FLOWERS_PATH):\n",
    "        return\n",
    "    os.makedirs(path, exist_ok=True)\n",
    "    tgz_path = os.path.join(path, \"flower_photos.tgz\")\n",
    "    urllib.request.urlretrieve(url, tgz_path, reporthook=download_progress)\n",
    "    flowers_tgz = tarfile.open(tgz_path)\n",
    "    flowers_tgz.extractall(path=path)\n",
    "    flowers_tgz.close()\n",
    "    os.remove(tgz_path)"
   ]
  },
  {
   "cell_type": "code",
   "execution_count": null,
   "metadata": {},
   "outputs": [],
   "source": [
    "fetch_flowers()"
   ]
  },
  {
   "cell_type": "code",
   "execution_count": null,
   "metadata": {},
   "outputs": [],
   "source": [
    "flowers_root_path = os.path.join(FLOWERS_PATH, \"flower_photos\")\n",
    "flower_classes = sorted([dirname for dirname in os.listdir(flowers_root_path)\n",
    "                  if os.path.isdir(os.path.join(flowers_root_path, dirname))])\n",
    "flower_classes"
   ]
  },
  {
   "cell_type": "code",
   "execution_count": null,
   "metadata": {},
   "outputs": [],
   "source": [
    "from collections import defaultdict\n",
    "\n",
    "image_paths = defaultdict(list)\n",
    "\n",
    "for flower_class in flower_classes:\n",
    "    image_dir = os.path.join(flowers_root_path, flower_class)\n",
    "    for filepath in os.listdir(image_dir):\n",
    "        if filepath.endswith(\".jpg\"):\n",
    "            image_paths[flower_class].append(os.path.join(image_dir, filepath))"
   ]
  },
  {
   "cell_type": "code",
   "execution_count": null,
   "metadata": {},
   "outputs": [],
   "source": [
    "for paths in image_paths.values():\n",
    "    paths.sort()    "
   ]
  },
  {
   "cell_type": "code",
   "execution_count": null,
   "metadata": {},
   "outputs": [],
   "source": [
    "import matplotlib.image as mpimg\n",
    "\n",
    "n_examples_per_class = 2\n",
    "\n",
    "for flower_class in flower_classes:\n",
    "    print(\"Class:\", flower_class)\n",
    "    plt.figure(figsize=(10,5))\n",
    "    for index, example_image_path in enumerate(image_paths[flower_class][:n_examples_per_class]):\n",
    "        example_image = mpimg.imread(example_image_path)[:, :, :channels]\n",
    "        plt.subplot(100 + n_examples_per_class * 10 + index + 1)\n",
    "        plt.title(\"{}x{}\".format(example_image.shape[1], example_image.shape[0]))\n",
    "        plt.imshow(example_image)\n",
    "        plt.axis(\"off\")\n",
    "    plt.show()"
   ]
  },
  {
   "cell_type": "markdown",
   "metadata": {},
   "source": [
    "9.2.\n",
    "Exercise: Write a preprocessing step that will resize and crop the image to 299 × 299, with some randomness for data augmentation.\n",
    "First, let's implement this using NumPy and SciPy:\n",
    "using basic NumPy slicing for image cropping,\n",
    "NumPy's fliplr() function to flip the image horizontally (with 50% probability),\n",
    "and SciPy's imresize() function for zooming.\n",
    "Note that imresize() is based on the Python Image Library (PIL).\n",
    "For more image manipulation functions, such as rotations, check out SciPy's documentation or this nice page."
   ]
  },
  {
   "cell_type": "code",
   "execution_count": null,
   "metadata": {},
   "outputs": [],
   "source": [
    "from scipy.misc import imresize\n",
    "\n",
    "def prepare_image(image, target_width = 299, target_height = 299, max_zoom = 0.2):\n",
    "    \"\"\"Zooms and crops the image randomly for data augmentation.\"\"\"\n",
    "\n",
    "    # First, let's find the largest bounding box with the target size ratio that fits within the image\n",
    "    height = image.shape[0]\n",
    "    width = image.shape[1]\n",
    "    image_ratio = width / height\n",
    "    target_image_ratio = target_width / target_height\n",
    "    crop_vertically = image_ratio < target_image_ratio\n",
    "    crop_width = width if crop_vertically else int(height * target_image_ratio)\n",
    "    crop_height = int(width / target_image_ratio) if crop_vertically else height\n",
    "        \n",
    "    # Now let's shrink this bounding box by a random factor (dividing the dimensions by a random number\n",
    "    # between 1.0 and 1.0 + `max_zoom`.\n",
    "    resize_factor = np.random.rand() * max_zoom + 1.0\n",
    "    crop_width = int(crop_width / resize_factor)\n",
    "    crop_height = int(crop_height / resize_factor)\n",
    "    \n",
    "    # Next, we can select a random location on the image for this bounding box.\n",
    "    x0 = np.random.randint(0, width - crop_width)\n",
    "    y0 = np.random.randint(0, height - crop_height)\n",
    "    x1 = x0 + crop_width\n",
    "    y1 = y0 + crop_height\n",
    "    \n",
    "    # Let's crop the image using the random bounding box we built.\n",
    "    image = image[y0:y1, x0:x1]\n",
    "\n",
    "    # Let's also flip the image horizontally with 50% probability:\n",
    "    if np.random.rand() < 0.5:\n",
    "        image = np.fliplr(image)\n",
    "\n",
    "    # Now, let's resize the image to the target dimensions.\n",
    "    image = imresize(image, (target_width, target_height))\n",
    "    \n",
    "    # Finally, let's ensure that the colors are represented as\n",
    "    # 32-bit floats ranging from 0.0 to 1.0 (for now):\n",
    "    return image.astype(np.float32) / 255"
   ]
  },
  {
   "cell_type": "code",
   "execution_count": null,
   "metadata": {},
   "outputs": [],
   "source": [
    "plt.figure(figsize=(6, 8))\n",
    "plt.imshow(example_image)\n",
    "plt.title(\"{}x{}\".format(example_image.shape[1], example_image.shape[0]))\n",
    "plt.axis(\"off\")\n",
    "plt.show()"
   ]
  },
  {
   "cell_type": "code",
   "execution_count": null,
   "metadata": {},
   "outputs": [],
   "source": [
    "prepared_image = prepare_image(example_image)\n",
    "\n",
    "plt.figure(figsize=(8, 8))\n",
    "plt.imshow(prepared_image)\n",
    "plt.title(\"{}x{}\".format(prepared_image.shape[1], prepared_image.shape[0]))\n",
    "plt.axis(\"off\")\n",
    "plt.show()"
   ]
  },
  {
   "cell_type": "code",
   "execution_count": null,
   "metadata": {},
   "outputs": [],
   "source": [
    "rows, cols = 2, 3\n",
    "\n",
    "plt.figure(figsize=(14, 8))\n",
    "for row in range(rows):\n",
    "    for col in range(cols):\n",
    "        prepared_image = prepare_image(example_image)\n",
    "        plt.subplot(rows, cols, row * cols + col + 1)\n",
    "        plt.title(\"{}x{}\".format(prepared_image.shape[1], prepared_image.shape[0]))\n",
    "        plt.imshow(prepared_image)\n",
    "        plt.axis(\"off\")\n",
    "plt.show()"
   ]
  },
  {
   "cell_type": "code",
   "execution_count": null,
   "metadata": {},
   "outputs": [],
   "source": [
    "def prepare_image_with_tensorflow(image, target_width = 299, target_height = 299, max_zoom = 0.2):\n",
    "    \"\"\"Zooms and crops the image randomly for data augmentation.\"\"\"\n",
    "\n",
    "    # First, let's find the largest bounding box with the target size ratio that fits within the image\n",
    "    image_shape = tf.cast(tf.shape(image), tf.float32)\n",
    "    height = image_shape[0]\n",
    "    width = image_shape[1]\n",
    "    image_ratio = width / height\n",
    "    target_image_ratio = target_width / target_height\n",
    "    crop_vertically = image_ratio < target_image_ratio\n",
    "    crop_width = tf.cond(crop_vertically,\n",
    "                         lambda: width,\n",
    "                         lambda: height * target_image_ratio)\n",
    "    crop_height = tf.cond(crop_vertically,\n",
    "                          lambda: width / target_image_ratio,\n",
    "                          lambda: height)\n",
    "\n",
    "    # Now let's shrink this bounding box by a random factor (dividing the dimensions by a random number\n",
    "    # between 1.0 and 1.0 + `max_zoom`.\n",
    "    resize_factor = tf.random_uniform(shape=[], minval=1.0, maxval=1.0 + max_zoom)\n",
    "    crop_width = tf.cast(crop_width / resize_factor, tf.int32)\n",
    "    crop_height = tf.cast(crop_height / resize_factor, tf.int32)\n",
    "    box_size = tf.stack([crop_height, crop_width, 3])   # 3 = number of channels\n",
    "\n",
    "    # Let's crop the image using a random bounding box of the size we computed\n",
    "    image = tf.random_crop(image, box_size)\n",
    "\n",
    "    # Let's also flip the image horizontally with 50% probability:\n",
    "    image = tf.image.random_flip_left_right(image)\n",
    "\n",
    "    # The resize_bilinear function requires a 4D tensor (a batch of images)\n",
    "    # so we need to expand the number of dimensions first:\n",
    "    image_batch = tf.expand_dims(image, 0)\n",
    "\n",
    "    # Finally, let's resize the image to the target dimensions. Note that this function\n",
    "    # returns a float32 tensor.\n",
    "    image_batch = tf.image.resize_bilinear(image_batch, [target_height, target_width])\n",
    "    image = image_batch[0] / 255  # back to a single image, and scale the colors from 0.0 to 1.0\n",
    "    return image"
   ]
  },
  {
   "cell_type": "code",
   "execution_count": null,
   "metadata": {},
   "outputs": [],
   "source": [
    "reset_graph()\n",
    "\n",
    "input_image = tf.placeholder(tf.uint8, shape=[None, None, 3])\n",
    "prepared_image_op = prepare_image_with_tensorflow(input_image)\n",
    "\n",
    "with tf.Session():\n",
    "    prepared_image = prepared_image_op.eval(feed_dict={input_image: example_image})\n",
    "    \n",
    "plt.figure(figsize=(6, 6))\n",
    "plt.imshow(prepared_image)\n",
    "plt.title(\"{}x{}\".format(prepared_image.shape[1], prepared_image.shape[0]))\n",
    "plt.axis(\"off\")\n",
    "plt.show()"
   ]
  },
  {
   "cell_type": "markdown",
   "metadata": {},
   "source": [
    "Exercise: Using the pretrained Inception v3 model from the previous exercise, freeze all layers up to the bottleneck layer (i.e., the last layer before the output layer), and replace the output layer with the appropriate number of outputs for your new classification task (e.g., the flowers dataset has five mutually exclusive classes so the output layer must have five neurons and use the softmax activation function).\n",
    "Let's start by fetching the inception v3 graph again. This time, let's use a training placeholder that we will use to tell TensorFlow whether we are training the network or not (this is needed by operations such as dropout and batch normalization)."
   ]
  },
  {
   "cell_type": "code",
   "execution_count": null,
   "metadata": {},
   "outputs": [],
   "source": [
    "from tensorflow.contrib.slim.nets import inception\n",
    "import tensorflow.contrib.slim as slim\n",
    "\n",
    "reset_graph()\n",
    "\n",
    "X = tf.placeholder(tf.float32, shape=[None, height, width, channels], name=\"X\")\n",
    "training = tf.placeholder_with_default(False, shape=[])\n",
    "with slim.arg_scope(inception.inception_v3_arg_scope()):\n",
    "    logits, end_points = inception.inception_v3(X, num_classes=1001, is_training=training)\n",
    "\n",
    "inception_saver = tf.train.Saver()"
   ]
  },
  {
   "cell_type": "code",
   "execution_count": null,
   "metadata": {},
   "outputs": [],
   "source": [
    "end_points"
   ]
  },
  {
   "cell_type": "code",
   "execution_count": null,
   "metadata": {},
   "outputs": [],
   "source": [
    "end_points[\"PreLogits\"]"
   ]
  },
  {
   "cell_type": "code",
   "execution_count": null,
   "metadata": {},
   "outputs": [],
   "source": [
    "prelogits = tf.squeeze(end_points[\"PreLogits\"], axis=[1, 2])"
   ]
  },
  {
   "cell_type": "code",
   "execution_count": null,
   "metadata": {},
   "outputs": [],
   "source": [
    "n_outputs = len(flower_classes)\n",
    "\n",
    "with tf.name_scope(\"new_output_layer\"):\n",
    "    flower_logits = tf.layers.dense(prelogits, n_outputs, name=\"flower_logits\")\n",
    "    Y_proba = tf.nn.softmax(flower_logits, name=\"Y_proba\")"
   ]
  },
  {
   "cell_type": "markdown",
   "metadata": {},
   "source": [
    "Finally, we need to add the usual bits and pieces:\n",
    "the placeholder for the targets (y),\n",
    "the loss function, which is the cross-entropy, as usual for a classification task,\n",
    "an optimizer, that we use to create a training operation that will minimize the cost function,\n",
    "a couple operations to measure the model's accuracy,\n",
    "and finally an initializer and a saver.\n",
    "There is one important detail, however: since we want to train only the output layer (all other layers must be frozen), we must pass the list of variables to train to the optimizer's minimize() method:"
   ]
  },
  {
   "cell_type": "code",
   "execution_count": null,
   "metadata": {},
   "outputs": [],
   "source": [
    "y = tf.placeholder(tf.int32, shape=[None])\n",
    "\n",
    "with tf.name_scope(\"train\"):\n",
    "    xentropy = tf.nn.sparse_softmax_cross_entropy_with_logits(logits=flower_logits, labels=y)\n",
    "    loss = tf.reduce_mean(xentropy)\n",
    "    optimizer = tf.train.AdamOptimizer()\n",
    "    flower_vars = tf.get_collection(tf.GraphKeys.TRAINABLE_VARIABLES, scope=\"flower_logits\")\n",
    "    training_op = optimizer.minimize(loss, var_list=flower_vars)\n",
    "\n",
    "with tf.name_scope(\"eval\"):\n",
    "    correct = tf.nn.in_top_k(flower_logits, y, 1)\n",
    "    accuracy = tf.reduce_mean(tf.cast(correct, tf.float32))\n",
    "\n",
    "with tf.name_scope(\"init_and_save\"):\n",
    "    init = tf.global_variables_initializer()\n",
    "    saver = tf.train.Saver() "
   ]
  },
  {
   "cell_type": "code",
   "execution_count": null,
   "metadata": {},
   "outputs": [],
   "source": [
    "[v.name for v in flower_vars]"
   ]
  },
  {
   "cell_type": "markdown",
   "metadata": {},
   "source": [
    "shuffle the data into two using: test and train"
   ]
  },
  {
   "cell_type": "code",
   "execution_count": null,
   "metadata": {},
   "outputs": [],
   "source": [
    "flower_class_ids = {flower_class: index for index, flower_class in enumerate(flower_classes)}\n",
    "flower_class_ids"
   ]
  },
  {
   "cell_type": "code",
   "execution_count": null,
   "metadata": {},
   "outputs": [],
   "source": [
    "flower_paths_and_classes = []\n",
    "for flower_class, paths in image_paths.items():\n",
    "    for path in paths:\n",
    "        flower_paths_and_classes.append((path, flower_class_ids[flower_class]))"
   ]
  },
  {
   "cell_type": "code",
   "execution_count": null,
   "metadata": {},
   "outputs": [],
   "source": [
    "test_ratio = 0.2\n",
    "train_size = int(len(flower_paths_and_classes) * (1 - test_ratio))\n",
    "\n",
    "np.random.shuffle(flower_paths_and_classes)\n",
    "\n",
    "flower_paths_and_classes_train = flower_paths_and_classes[:train_size]\n",
    "flower_paths_and_classes_test = flower_paths_and_classes[train_size:]"
   ]
  },
  {
   "cell_type": "code",
   "execution_count": null,
   "metadata": {},
   "outputs": [],
   "source": [
    "flower_paths_and_classes_train[:3]"
   ]
  },
  {
   "cell_type": "code",
   "execution_count": null,
   "metadata": {},
   "outputs": [],
   "source": [
    "from random import sample\n",
    "\n",
    "def prepare_batch(flower_paths_and_classes, batch_size):\n",
    "    batch_paths_and_classes = sample(flower_paths_and_classes, batch_size)\n",
    "    images = [mpimg.imread(path)[:, :, :channels] for path, labels in batch_paths_and_classes]\n",
    "    prepared_images = [prepare_image(image) for image in images]\n",
    "    X_batch = 2 * np.stack(prepared_images) - 1 # Inception expects colors ranging from -1 to 1\n",
    "    y_batch = np.array([labels for path, labels in batch_paths_and_classes], dtype=np.int32)\n",
    "    return X_batch, y_batch"
   ]
  },
  {
   "cell_type": "code",
   "execution_count": null,
   "metadata": {},
   "outputs": [],
   "source": [
    "X_batch, y_batch = prepare_batch(flower_paths_and_classes_train, batch_size=4)"
   ]
  },
  {
   "cell_type": "code",
   "execution_count": null,
   "metadata": {},
   "outputs": [],
   "source": [
    "X_test, y_test = prepare_batch(flower_paths_and_classes_test, batch_size=len(flower_paths_and_classes_test))"
   ]
  },
  {
   "cell_type": "code",
   "execution_count": null,
   "metadata": {},
   "outputs": [],
   "source": [
    "n_epochs = 10\n",
    "batch_size = 40\n",
    "n_iterations_per_epoch = len(flower_paths_and_classes_train) // batch_size\n",
    "\n",
    "with tf.Session() as sess:\n",
    "    init.run()\n",
    "    inception_saver.restore(sess, INCEPTION_V3_CHECKPOINT_PATH)\n",
    "\n",
    "    for epoch in range(n_epochs):\n",
    "        print(\"Epoch\", epoch, end=\"\")\n",
    "        for iteration in range(n_iterations_per_epoch):\n",
    "            print(\".\", end=\"\")\n",
    "            X_batch, y_batch = prepare_batch(flower_paths_and_classes_train, batch_size)\n",
    "            sess.run(training_op, feed_dict={X: X_batch, y: y_batch, training: True})\n",
    "\n",
    "        acc_train = accuracy.eval(feed_dict={X: X_batch, y: y_batch})\n",
    "        print(\"  Train accuracy:\", acc_train)\n",
    "\n",
    "        save_path = saver.save(sess, \"./my_flowers_model\")"
   ]
  },
  {
   "cell_type": "code",
   "execution_count": null,
   "metadata": {},
   "outputs": [],
   "source": [
    "n_test_batches = 10\n",
    "X_test_batches = np.array_split(X_test, n_test_batches)\n",
    "y_test_batches = np.array_split(y_test, n_test_batches)\n",
    "\n",
    "with tf.Session() as sess:\n",
    "    saver.restore(sess, \"./my_flowers_model\")\n",
    "\n",
    "    print(\"Computing final accuracy on the test set (this will take a while)...\")\n",
    "    acc_test = np.mean([\n",
    "        accuracy.eval(feed_dict={X: X_test_batch, y: y_test_batch})\n",
    "        for X_test_batch, y_test_batch in zip(X_test_batches, y_test_batches)])\n",
    "    print(\"Test accuracy:\", acc_test)"
   ]
  },
  {
   "cell_type": "code",
   "execution_count": null,
   "metadata": {},
   "outputs": [],
   "source": []
  },
  {
   "cell_type": "code",
   "execution_count": null,
   "metadata": {},
   "outputs": [],
   "source": []
  }
 ],
 "metadata": {
  "kernelspec": {
   "display_name": "Python 3",
   "language": "python",
   "name": "python3"
  },
  "language_info": {
   "codemirror_mode": {
    "name": "ipython",
    "version": 3
   },
   "file_extension": ".py",
   "mimetype": "text/x-python",
   "name": "python",
   "nbconvert_exporter": "python",
   "pygments_lexer": "ipython3",
   "version": "3.6.4"
  }
 },
 "nbformat": 4,
 "nbformat_minor": 2
}
